{
 "cells": [
  {
   "cell_type": "code",
   "execution_count": 39,
   "id": "6322d3b5",
   "metadata": {},
   "outputs": [],
   "source": [
    "import pandas as pd\n",
    "import numpy as np\n",
    "import pandas_datareader as web\n",
    "from tabulate import tabulate"
   ]
  },
  {
   "cell_type": "code",
   "execution_count": 40,
   "id": "65329ac1",
   "metadata": {},
   "outputs": [],
   "source": [
    "def sharpe_ratio(stocks,start_date,end_date,rfr):\n",
    "    data = pd.DataFrame()\n",
    "    ret = pd.DataFrame()\n",
    "    for i in stocks:\n",
    "        data[i] = web.DataReader(i,data_source = 'yahoo',start = start_date,end = end_date)['Adj Close']\n",
    "        ret[i] = data[i].pct_change()\n",
    "        cum_i = (data[i][-1]/data[i][0]) -1\n",
    "        std_i = ret[i].std()*np.sqrt(252)\n",
    "        sharpe_i = (cum_i - rfr/100)/std_i\n",
    "        print(tabulate([['Stock','Cumulative Return (%)','Standard Deviation (%)','Sharpe Ratio'],[i,round(cum_i,4)*100,round(std_i,4)*100,round(sharpe_i,4)]],headers = 'firstrow'))\n",
    "        print(\"\\n\")"
   ]
  },
  {
   "cell_type": "code",
   "execution_count": 41,
   "id": "43b43eba",
   "metadata": {},
   "outputs": [
    {
     "name": "stdout",
     "output_type": "stream",
     "text": [
      "Stock            Cumulative Return (%)    Standard Deviation (%)    Sharpe Ratio\n",
      "-------------  -----------------------  ------------------------  --------------\n",
      "BAJFINANCE.NS                   135935                    235.95         576.108\n",
      "\n",
      "\n",
      "Stock            Cumulative Return (%)    Standard Deviation (%)    Sharpe Ratio\n",
      "-------------  -----------------------  ------------------------  --------------\n",
      "ASIANPAINT.NS                  14859.3                     26.93         551.615\n",
      "\n",
      "\n",
      "Stock          Cumulative Return (%)    Standard Deviation (%)    Sharpe Ratio\n",
      "-----------  -----------------------  ------------------------  --------------\n",
      "AXISBANK.NS                  11353.7                     43.72         259.662\n",
      "\n",
      "\n"
     ]
    }
   ],
   "source": [
    "sharpe_ratio(['BAJFINANCE.NS','ASIANPAINT.NS','AXISBANK.NS'],'2000-01-03','2021-04-30',2)"
   ]
  },
  {
   "cell_type": "code",
   "execution_count": null,
   "id": "b14fea92",
   "metadata": {},
   "outputs": [],
   "source": []
  }
 ],
 "metadata": {
  "kernelspec": {
   "display_name": "Python 3 (ipykernel)",
   "language": "python",
   "name": "python3"
  },
  "language_info": {
   "codemirror_mode": {
    "name": "ipython",
    "version": 3
   },
   "file_extension": ".py",
   "mimetype": "text/x-python",
   "name": "python",
   "nbconvert_exporter": "python",
   "pygments_lexer": "ipython3",
   "version": "3.10.2"
  }
 },
 "nbformat": 4,
 "nbformat_minor": 5
}
