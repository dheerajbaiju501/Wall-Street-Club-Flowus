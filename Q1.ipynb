{
 "cells": [
  {
   "cell_type": "code",
   "execution_count": null,
   "id": "89457b37",
   "metadata": {},
   "outputs": [],
   "source": [
    "import random\n",
    "import math\n",
    "\n",
    "def coin_toss_expectation(n):\n",
    "    count_head = 0\n",
    "    for i in range(n):\n",
    "        coin_value = random.randint(1,2)\n",
    "        #assinging random function to find number of heads depending on the count from the simulations\n",
    "    \n",
    "        if coin_value==1:\n",
    "            count_head = count_head+1\n",
    "    count_tail = n-count_head\n",
    "    prob_head = count_head/n\n",
    "    prob_tail = count_tail/n\n",
    "    \n",
    "    \n",
    "   \n",
    "    \n",
    "    #expected gain value\n",
    "    exp_pertoss = prob_head*1 + prob_tail*(-0.5)\n",
    "    #expected gain when coin is tossed once: E(1) = 1+1 and E(2) = 1-0.5\n",
    "    exp_x = prob_head*2 + prob_tail*0.5 #E(X)\n",
    "    exp_x2 = prob_head*4 + prob_tail*0.25 #E(X^2)\n",
    "    #V(H(X)) = E(X)^2 - E(X^2)\n",
    "    var = exp_x2 - (exp_x*exp_x)\n",
    "    return exp_pertoss\n",
    "\n",
    "\n",
    "\n",
    "n=[10,20,400,10000,100000]\n",
    "for i in range(5):\n",
    "    print(\"\\n\")\n",
    "    print(\"N = \",n[i])\n",
    "    pertossvalue = coin_toss_expectation(n[i])\n",
    "    print(\"per toss = \",pertossvalue)\n",
    "    print(\"expectation = \", pertossvalue*n[i] + 1)\n",
    "    print(\"variance = \", pertossvalue*(math.sqrt(n[i])))\n",
    "\n",
    "#"
   ]
  }
 ],
 "metadata": {
  "kernelspec": {
   "display_name": "Python 3 (ipykernel)",
   "language": "python",
   "name": "python3"
  },
  "language_info": {
   "codemirror_mode": {
    "name": "ipython",
    "version": 3
   },
   "file_extension": ".py",
   "mimetype": "text/x-python",
   "name": "python",
   "nbconvert_exporter": "python",
   "pygments_lexer": "ipython3",
   "version": "3.10.2"
  }
 },
 "nbformat": 4,
 "nbformat_minor": 5
}
